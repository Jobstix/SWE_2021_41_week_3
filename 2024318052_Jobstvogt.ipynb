{
  "nbformat": 4,
  "nbformat_minor": 0,
  "metadata": {
    "colab": {
      "provenance": []
    },
    "kernelspec": {
      "name": "python3",
      "display_name": "Python 3"
    },
    "language_info": {
      "name": "python"
    }
  },
  "cells": [
    {
      "cell_type": "markdown",
      "source": [
        "## Task\n",
        "- Complete **isHappy** function following the description below\n",
        "\n",
        "### Happy Number\n",
        "Write an algorithm to determine if a number **n** is happy.\n",
        "\n",
        "A **happy number** is a number defined by the following process:\n",
        "\n",
        "* Starting with any positive integer, replace the number by the sum of the squares of its digits.\n",
        "* Repeat the process until the number equals 1 (where it will stay), or it **loops endlessly in a cycle** which does not include 1.\n",
        "* Those numbers for which this process **ends in 1** are happy.\n",
        "\n",
        "Return **true** if n is a happy number, and **false** if not.\n",
        "\n",
        "Constraints:\n",
        "1 <= n <= $2^{31}$ - 1"
      ],
      "metadata": {
        "id": "TV3Socqg8BVl"
      }
    },
    {
      "cell_type": "code",
      "execution_count": 28,
      "metadata": {
        "id": "5FcxitVf5kdQ"
      },
      "outputs": [],
      "source": [
        "def isHappy(n):\n",
        "  string =str(n)\n",
        "  sum = 0\n",
        "  same = set()\n",
        "  while sum != 1:\n",
        "    sum =0\n",
        "    for digit in string:\n",
        "      sum += int(digit)**2\n",
        "    print(sum)\n",
        "    if(sum in same):\n",
        "      return False\n",
        "    same.add(sum)\n",
        "    print(same)\n",
        "    string = str(sum)\n",
        "  return True\n",
        "\n",
        "\n"
      ]
    },
    {
      "cell_type": "code",
      "source": [
        "isHappy(19)\n",
        "\n",
        "isHappy(2)\n",
        "\n",
        "isHappy(17)"
      ],
      "metadata": {
        "colab": {
          "base_uri": "https://localhost:8080/"
        },
        "id": "D7tIJ_d9Xj5S",
        "outputId": "211fa9a7-d132-4d89-a28f-a70c63ae319b"
      },
      "execution_count": 33,
      "outputs": [
        {
          "output_type": "stream",
          "name": "stdout",
          "text": [
            "82\n",
            "{82}\n",
            "68\n",
            "{82, 68}\n",
            "100\n",
            "{100, 82, 68}\n",
            "1\n",
            "{100, 1, 82, 68}\n",
            "4\n",
            "{4}\n",
            "16\n",
            "{16, 4}\n",
            "37\n",
            "{16, 4, 37}\n",
            "58\n",
            "{16, 58, 4, 37}\n",
            "89\n",
            "{4, 37, 16, 89, 58}\n",
            "145\n",
            "{4, 37, 16, 145, 89, 58}\n",
            "42\n",
            "{4, 37, 42, 16, 145, 89, 58}\n",
            "20\n",
            "{4, 37, 42, 16, 145, 20, 89, 58}\n",
            "4\n",
            "50\n",
            "{50}\n",
            "25\n",
            "{25, 50}\n",
            "29\n",
            "{25, 50, 29}\n",
            "85\n",
            "{25, 50, 85, 29}\n",
            "89\n",
            "{50, 85, 89, 29, 25}\n",
            "145\n",
            "{145, 50, 85, 89, 29, 25}\n",
            "42\n",
            "{42, 145, 50, 85, 89, 29, 25}\n",
            "20\n",
            "{42, 145, 50, 20, 85, 89, 29, 25}\n",
            "4\n",
            "{4, 42, 145, 50, 20, 85, 89, 29, 25}\n",
            "16\n",
            "{4, 42, 16, 145, 50, 20, 85, 89, 29, 25}\n",
            "37\n",
            "{4, 37, 42, 16, 145, 50, 20, 85, 89, 29, 25}\n",
            "58\n",
            "{4, 37, 42, 16, 145, 50, 20, 85, 89, 58, 29, 25}\n",
            "89\n"
          ]
        },
        {
          "output_type": "execute_result",
          "data": {
            "text/plain": [
              "False"
            ]
          },
          "metadata": {},
          "execution_count": 33
        }
      ]
    },
    {
      "cell_type": "markdown",
      "source": [
        "**Testcase 1.**\n",
        "\n",
        "**Input**: 19\n",
        "\n",
        "**Output**: True\n",
        "\n",
        "**Explanation**:\n",
        "\n",
        "$1^2 + 9^2 = 82$\n",
        "\n",
        "$8^2 + 2^2 = 68$\n",
        "\n",
        "$6^2 + 8^2 = 100$\n",
        "\n",
        "$1^2 + 0^2 + 0^2 = 1$"
      ],
      "metadata": {
        "id": "eRrh24Ognrqf"
      }
    },
    {
      "cell_type": "markdown",
      "source": [
        "**Testcase 2.**\n",
        "\n",
        "**Input**: 2\n",
        "\n",
        "**Output**: False"
      ],
      "metadata": {
        "id": "dE7YMY8qoPoj"
      }
    }
  ]
}